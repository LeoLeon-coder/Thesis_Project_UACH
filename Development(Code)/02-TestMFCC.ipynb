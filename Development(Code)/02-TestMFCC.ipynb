{
 "cells": [
  {
   "cell_type": "code",
   "execution_count": 29,
   "id": "1c2e87a2",
   "metadata": {},
   "outputs": [],
   "source": [
    "import librosa\n",
    "import numpy as np\n",
    "import pandas as pd\n",
    "import os\n"
   ]
  },
  {
   "cell_type": "code",
   "execution_count": 30,
   "id": "24654476",
   "metadata": {},
   "outputs": [
    {
     "name": "stdout",
     "output_type": "stream",
     "text": [
      "c:\\Users\\leona\\Documents\\Thesis_Project_UACH\\Development(Code)\n"
     ]
    }
   ],
   "source": [
    "print(os.getcwd())"
   ]
  },
  {
   "cell_type": "code",
   "execution_count": 34,
   "id": "6f394d6f",
   "metadata": {},
   "outputs": [],
   "source": [
    "# === CONFIG ===\n",
    "audio_path = r\"c:\\Users\\leona\\Documents\\Thesis_Project_UACH\\Temp\\Dataset\\BeesAnna\\sound_files\\2022-06-08--14-52-28_1__segment3.wav\" # Replace with your file\n",
    "sample_rate = 22050  # Your dataset's sample rate\n",
    "n_mfcc = 13          # Number of MFCCs to extract (typical: 13)"
   ]
  },
  {
   "cell_type": "code",
   "execution_count": 35,
   "id": "f6a243a8",
   "metadata": {},
   "outputs": [],
   "source": [
    "# === LOAD AUDIO ===\n",
    "y, sr = librosa.load(audio_path, sr=sample_rate)  # Use actual sample rate"
   ]
  },
  {
   "cell_type": "code",
   "execution_count": 36,
   "id": "dcb6eaf3",
   "metadata": {},
   "outputs": [],
   "source": [
    "# === EXTRACT MFCCs ===\n",
    "mfccs = librosa.feature.mfcc(y=y, sr=sr, n_mfcc=n_mfcc)"
   ]
  },
  {
   "cell_type": "code",
   "execution_count": 37,
   "id": "8b634db9",
   "metadata": {},
   "outputs": [],
   "source": [
    "# Transpose so shape becomes: [frames x coefficients]\n",
    "mfccs = mfccs.T"
   ]
  },
  {
   "cell_type": "code",
   "execution_count": 38,
   "id": "8009f9ec",
   "metadata": {},
   "outputs": [
    {
     "name": "stdout",
     "output_type": "stream",
     "text": [
      "MFCCs saved as:\n",
      "- CSV: 2022-06-08--14-52-28_1__segment3_mfcc.csv\n",
      "- NPY: 2022-06-08--14-52-28_1__segment3_mfcc.npy\n",
      "Shape of MFCCs: (2584, 13) → [frames x 13]\n"
     ]
    }
   ],
   "source": [
    "# === OPTIONAL: Save to CSV ===\n",
    "base_name = os.path.splitext(os.path.basename(audio_path))[0]\n",
    "csv_output_path = f\"{base_name}_mfcc.csv\"\n",
    "np_output_path = f\"{base_name}_mfcc.npy\"\n",
    "\n",
    "# Save as CSV\n",
    "pd.DataFrame(mfccs).to_csv(csv_output_path, index=False)\n",
    "\n",
    "# Or, save as a binary numpy file\n",
    "np.save(np_output_path, mfccs)\n",
    "\n",
    "print(f\"MFCCs saved as:\\n- CSV: {csv_output_path}\\n- NPY: {np_output_path}\")\n",
    "print(f\"Shape of MFCCs: {mfccs.shape} → [frames x {n_mfcc}]\")"
   ]
  }
 ],
 "metadata": {
  "kernelspec": {
   "display_name": "envBees",
   "language": "python",
   "name": "python3"
  },
  "language_info": {
   "codemirror_mode": {
    "name": "ipython",
    "version": 3
   },
   "file_extension": ".py",
   "mimetype": "text/x-python",
   "name": "python",
   "nbconvert_exporter": "python",
   "pygments_lexer": "ipython3",
   "version": "3.10.13"
  }
 },
 "nbformat": 4,
 "nbformat_minor": 5
}
