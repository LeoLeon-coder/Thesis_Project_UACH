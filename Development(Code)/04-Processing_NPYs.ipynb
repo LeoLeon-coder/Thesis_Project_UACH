{
 "cells": [
  {
   "cell_type": "markdown",
   "id": "e0e62ef8",
   "metadata": {},
   "source": [
    "# Step-by-Step: From MFCC ```.npy``` Files to a Model\n",
    "\n",
    "## Step 1: Load Metadata\n",
    "\n",
    "We’ll read ```mfcc_metadata.csv``` to get:\n",
    "- The name of the ```.npy``` file with MFCCs,\n",
    "- The ```queen_status``` label."
   ]
  },
  {
   "cell_type": "code",
   "execution_count": 1,
   "id": "d5b80840",
   "metadata": {},
   "outputs": [
    {
     "name": "stdout",
     "output_type": "stream",
     "text": [
      "queen_status\n",
      "3    3563\n",
      "2    1553\n",
      "0    1038\n",
      "1     946\n",
      "Name: count, dtype: int64\n"
     ]
    }
   ],
   "source": [
    "import pandas as pd\n",
    "\n",
    "# Load metadata file\n",
    "metadata_df = pd.read_csv(\"mfcc_metadata.csv\")\n",
    "\n",
    "# Optional: Show distribution of labels\n",
    "print(metadata_df[\"queen_status\"].value_counts())"
   ]
  },
  {
   "cell_type": "markdown",
   "id": "970c62c7",
   "metadata": {},
   "source": [
    "## Step 2: Prepare Data (Fixed Length for Simpler Models)\n",
    "\n",
    "We’ll:\n",
    "- Load the MFCC matrix from each .npy file,\n",
    "- Pad or truncate it to a fixed number of frames (say, 100),\n",
    "- Flatten it into a 1D vector (so you can use traditional models like Random Forest or Logistic Regression)."
   ]
  },
  {
   "cell_type": "code",
   "execution_count": 2,
   "id": "bc3770b6",
   "metadata": {},
   "outputs": [
    {
     "name": "stdout",
     "output_type": "stream",
     "text": [
      "✅ Loaded and prepared all data: (7100, 1300) (7100,)\n"
     ]
    }
   ],
   "source": [
    "import numpy as np\n",
    "import os\n",
    "\n",
    "# Settings\n",
    "mfcc_dir = \"mfcc_npy_files/\"\n",
    "n_mfcc = 13\n",
    "max_frames = 100  # You can adjust this if needed\n",
    "\n",
    "# Containers for features and labels\n",
    "X = []\n",
    "y = []\n",
    "\n",
    "# Loop through metadata and load MFCCs\n",
    "for idx, row in metadata_df.iterrows():\n",
    "    file_path = os.path.join(mfcc_dir, row[\"mfcc_file\"])\n",
    "    label = row[\"queen_status\"]\n",
    "\n",
    "    # Load MFCC matrix\n",
    "    mfcc = np.load(file_path)\n",
    "\n",
    "    # Pad or truncate to fixed length\n",
    "    if mfcc.shape[0] < max_frames:\n",
    "        pad_width = max_frames - mfcc.shape[0]\n",
    "        mfcc = np.pad(mfcc, ((0, pad_width), (0, 0)), mode=\"constant\")\n",
    "    else:\n",
    "        mfcc = mfcc[:max_frames]\n",
    "\n",
    "    # Flatten to 1D vector: [100 frames × 13 mfccs] → 1300 features\n",
    "    X.append(mfcc.flatten())\n",
    "    y.append(label)\n",
    "\n",
    "X = np.array(X)\n",
    "y = np.array(y)\n",
    "\n",
    "print(\"✅ Loaded and prepared all data:\", X.shape, y.shape)\n"
   ]
  },
  {
   "cell_type": "markdown",
   "id": "dc58c282",
   "metadata": {},
   "source": [
    "## Step 3: Train a Simple Model (Random Forest)"
   ]
  },
  {
   "cell_type": "code",
   "execution_count": 3,
   "id": "52a5cdf2",
   "metadata": {},
   "outputs": [
    {
     "name": "stdout",
     "output_type": "stream",
     "text": [
      "              precision    recall  f1-score   support\n",
      "\n",
      "           0       0.84      0.35      0.49       208\n",
      "           1       0.63      0.18      0.28       189\n",
      "           2       0.64      0.46      0.53       310\n",
      "           3       0.65      0.97      0.78       713\n",
      "\n",
      "    accuracy                           0.66      1420\n",
      "   macro avg       0.69      0.49      0.52      1420\n",
      "weighted avg       0.67      0.66      0.62      1420\n",
      "\n"
     ]
    }
   ],
   "source": [
    "from sklearn.ensemble import RandomForestClassifier\n",
    "from sklearn.model_selection import train_test_split\n",
    "from sklearn.metrics import classification_report\n",
    "\n",
    "# Split data\n",
    "X_train, X_test, y_train, y_test = train_test_split(X, y, test_size=0.2, stratify=y, random_state=42)\n",
    "\n",
    "# Train model\n",
    "model = RandomForestClassifier(n_estimators=100, random_state=42)\n",
    "model.fit(X_train, y_train)\n",
    "\n",
    "# Evaluate\n",
    "y_pred = model.predict(X_test)\n",
    "print(classification_report(y_test, y_pred))"
   ]
  },
  {
   "cell_type": "markdown",
   "id": "9f9ede52",
   "metadata": {},
   "source": [
    "## What We’ll Get:\n",
    "- A first working classifier that predicts queen status from MFCC audio features.\n",
    "- Precision, recall, F1-score — all the standard metrics.\n",
    "- A real baseline you can compare future models to (like RNNs or CNNs).\n",
    "\n",
    "## Next Levels\n",
    "- Normalize MFCCs before modeling.\n",
    "- Try PCA for feature reduction.\n",
    "- Train time-distributed models (like LSTMs) using the full [frames × 13] matrices.\n",
    "- Visualize samples: MFCC heatmaps vs. queen status."
   ]
  }
 ],
 "metadata": {
  "kernelspec": {
   "display_name": "envBees",
   "language": "python",
   "name": "python3"
  },
  "language_info": {
   "codemirror_mode": {
    "name": "ipython",
    "version": 3
   },
   "file_extension": ".py",
   "mimetype": "text/x-python",
   "name": "python",
   "nbconvert_exporter": "python",
   "pygments_lexer": "ipython3",
   "version": "3.10.13"
  }
 },
 "nbformat": 4,
 "nbformat_minor": 5
}
