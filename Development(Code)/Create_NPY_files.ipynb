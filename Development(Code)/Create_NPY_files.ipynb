{
 "cells": [
  {
   "cell_type": "code",
   "execution_count": 12,
   "id": "3051828b",
   "metadata": {},
   "outputs": [],
   "source": [
    "import os\n",
    "import librosa\n",
    "import numpy as np\n",
    "import pandas as pd"
   ]
  },
  {
   "cell_type": "code",
   "execution_count": 13,
   "id": "e98ff125",
   "metadata": {},
   "outputs": [],
   "source": [
    "# === CONFIGURATION ===\n",
    "audio_folder = r\"C:\\Users\\leona\\Documents\\Thesis_Project_UACH\\Temp\\Dataset\\BeesAnna\\sound_files\"  # Folder with .wav files\n",
    "output_folder = \"mfcc_npy_files/\"  # Where to save .npy files\n",
    "csv_path = r\"Datasets\\BeeHive_audio_updated.csv\"\n",
    "sample_rate = 22050\n",
    "n_mfcc = 13"
   ]
  },
  {
   "cell_type": "code",
   "execution_count": 14,
   "id": "58611df4",
   "metadata": {},
   "outputs": [],
   "source": [
    "# Create output folder if it doesn't exist\n",
    "os.makedirs(output_folder, exist_ok=True)"
   ]
  },
  {
   "cell_type": "code",
   "execution_count": 15,
   "id": "2c975099",
   "metadata": {},
   "outputs": [],
   "source": [
    "# Load label info\n",
    "labels_df = pd.read_csv(csv_path)\n",
    "labels_df[\"file name\"] = labels_df[\"file name\"].str.strip()\n",
    "labels_df.set_index(\"file name\", inplace=True)"
   ]
  },
  {
   "cell_type": "code",
   "execution_count": 16,
   "id": "7a43f8d6",
   "metadata": {},
   "outputs": [],
   "source": [
    "# Save label linkage here\n",
    "metadata = []"
   ]
  },
  {
   "cell_type": "code",
   "execution_count": 17,
   "id": "24684405",
   "metadata": {},
   "outputs": [],
   "source": [
    "# Check if audio_folder exists before processing\n",
    "if not os.path.exists(audio_folder):\n",
    "    print(f\"Error: The folder '{audio_folder}' does not exist. Please check the path.\")\n",
    "else:\n",
    "    # Process each audio file\n",
    "    for filename in os.listdir(audio_folder):\n",
    "        if filename.endswith(\".wav\"):\n",
    "            try:\n",
    "                file_path = os.path.join(audio_folder, filename)\n",
    "                y, sr = librosa.load(file_path, sr=sample_rate)\n",
    "                mfcc = librosa.feature.mfcc(y=y, sr=sr, n_mfcc=n_mfcc)\n",
    "                mfcc = mfcc.T  # Shape: [frames, 13]\n",
    "\n",
    "                # Save MFCC matrix\n",
    "                npy_name = filename.replace(\".wav\", \"_mfcc.npy\")\n",
    "                np.save(os.path.join(output_folder, npy_name), mfcc)\n",
    "\n",
    "                # Link to label using raw filename\n",
    "                raw_key = filename.split(\"__\")[0] + \".raw\"\n",
    "                label = labels_df.loc[raw_key][\"queen status\"] if raw_key in labels_df.index else None\n",
    "\n",
    "                metadata.append({\"file_name\": filename, \"mfcc_file\": npy_name, \"queen_status\": label})\n",
    "\n",
    "            except Exception as e:\n",
    "                print(f\"Error processing {filename}: {e}\")"
   ]
  },
  {
   "cell_type": "code",
   "execution_count": 18,
   "id": "74c8f38e",
   "metadata": {},
   "outputs": [
    {
     "name": "stdout",
     "output_type": "stream",
     "text": [
      "Done! Processed 7100 files. MFCCs saved to 'mfcc_npy_files/'\n"
     ]
    }
   ],
   "source": [
    "# Save metadata file\n",
    "pd.DataFrame(metadata).to_csv(\"mfcc_metadata.csv\", index=False)\n",
    "print(f\"Done! Processed {len(metadata)} files. MFCCs saved to '{output_folder}'\")"
   ]
  }
 ],
 "metadata": {
  "kernelspec": {
   "display_name": "Python 3",
   "language": "python",
   "name": "python3"
  },
  "language_info": {
   "codemirror_mode": {
    "name": "ipython",
    "version": 3
   },
   "file_extension": ".py",
   "mimetype": "text/x-python",
   "name": "python",
   "nbconvert_exporter": "python",
   "pygments_lexer": "ipython3",
   "version": "3.10.13"
  }
 },
 "nbformat": 4,
 "nbformat_minor": 5
}
